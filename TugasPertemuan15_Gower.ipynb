{
  "nbformat": 4,
  "nbformat_minor": 0,
  "metadata": {
    "colab": {
      "provenance": [],
      "authorship_tag": "ABX9TyMYGezd9UzliAu8g8urtxax",
      "include_colab_link": true
    },
    "kernelspec": {
      "name": "python3",
      "display_name": "Python 3"
    },
    "language_info": {
      "name": "python"
    }
  },
  "cells": [
    {
      "cell_type": "markdown",
      "metadata": {
        "id": "view-in-github",
        "colab_type": "text"
      },
      "source": [
        "<a href=\"https://colab.research.google.com/github/MaulanaJauhar/AI/blob/main/TugasPertemuan15_Gower.ipynb\" target=\"_parent\"><img src=\"https://colab.research.google.com/assets/colab-badge.svg\" alt=\"Open In Colab\"/></a>"
      ]
    },
    {
      "cell_type": "markdown",
      "source": [
        "###Tugas Matematika Pertemuan 15 - Gower\n",
        "####Nama : Juahar Maulana A'la\n",
        "####NIM : 214127016\n",
        "####No Absen : 17"
      ],
      "metadata": {
        "id": "8Tm76hJ-fTg6"
      }
    },
    {
      "cell_type": "code",
      "execution_count": null,
      "metadata": {
        "id": "imxfIYQJfPjF"
      },
      "outputs": [],
      "source": [
        "import pandas as pd"
      ]
    },
    {
      "cell_type": "markdown",
      "source": [
        "Membuat Data Frame"
      ],
      "metadata": {
        "id": "OUZXXY1NftMe"
      }
    },
    {
      "cell_type": "code",
      "source": [
        "Xd=pd.DataFrame({'age': [14,19, 10, 14, 21,19,30,35],\n",
        "'preTestScore': [4, 24, 31, 3, 3, 4, 31, 9],\n",
        "'postTestScore': [25,94,57,30,70,25,69,95],\n",
        "'available_credit': [2200, 1000, 22000, 2100, 2000, 1000, 6000, 2200],\n",
        "'gender': ['M', 'M', 'M', 'M', 'F', 'F', 'F', 'F' ]})\n",
        "\n",
        "Xd"
      ],
      "metadata": {
        "id": "WWlnTBmWfvL3"
      },
      "execution_count": null,
      "outputs": []
    },
    {
      "cell_type": "markdown",
      "source": [
        "Install Library dari Gower"
      ],
      "metadata": {
        "id": "ma0lDH0Zfyi-"
      }
    },
    {
      "cell_type": "code",
      "source": [
        "!pip install gower"
      ],
      "metadata": {
        "id": "8SGJsjTJf1Mp"
      },
      "execution_count": null,
      "outputs": []
    },
    {
      "cell_type": "markdown",
      "source": [
        "Gower Distance Matrix"
      ],
      "metadata": {
        "id": "-o--X04jf47t"
      }
    },
    {
      "cell_type": "code",
      "source": [
        "import gower\n",
        "gower.gower_matrix(Xd)"
      ],
      "metadata": {
        "id": "pUYWxqHSf7BY"
      },
      "execution_count": null,
      "outputs": []
    },
    {
      "cell_type": "markdown",
      "source": [
        "Membandingkan semua jarak dengan baris pertama"
      ],
      "metadata": {
        "id": "4SvtHtF5gAx5"
      }
    },
    {
      "cell_type": "code",
      "source": [
        "first_row = gower.gower_matrix(Xd)[0]\n",
        "first_row"
      ],
      "metadata": {
        "id": "VndYL5eNgBWI"
      },
      "execution_count": null,
      "outputs": []
    },
    {
      "cell_type": "markdown",
      "source": [
        "Membandingkan baris pertama"
      ],
      "metadata": {
        "id": "cWRFx7LcgNTt"
      }
    },
    {
      "cell_type": "code",
      "source": [
        "Xd[:1]"
      ],
      "metadata": {
        "id": "EVS9I6oHgQfY"
      },
      "execution_count": null,
      "outputs": []
    },
    {
      "cell_type": "markdown",
      "source": [
        "Jarak minimal ke baris pertama"
      ],
      "metadata": {
        "id": "7H5HQJAhgSU9"
      }
    },
    {
      "cell_type": "code",
      "source": [
        "Xd[first_row == min(first_row[first_row != min(first_row)])]"
      ],
      "metadata": {
        "id": "K7HbtKg-gVOE"
      },
      "execution_count": null,
      "outputs": []
    },
    {
      "cell_type": "markdown",
      "source": [
        "Jarak maksimal ke baris pertama"
      ],
      "metadata": {
        "id": "vZAt8YOMgcB2"
      }
    },
    {
      "cell_type": "code",
      "source": [
        "Xd[first_row == max(first_row)]"
      ],
      "metadata": {
        "id": "4llU95eTgfk-"
      },
      "execution_count": null,
      "outputs": []
    }
  ]
}
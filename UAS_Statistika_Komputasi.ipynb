{
  "nbformat": 4,
  "nbformat_minor": 0,
  "metadata": {
    "colab": {
      "provenance": [],
      "authorship_tag": "ABX9TyOsrpXCSp3HOEqEjv8Z1iJ9",
      "include_colab_link": true
    },
    "kernelspec": {
      "name": "python3",
      "display_name": "Python 3"
    },
    "language_info": {
      "name": "python"
    }
  },
  "cells": [
    {
      "cell_type": "markdown",
      "metadata": {
        "id": "view-in-github",
        "colab_type": "text"
      },
      "source": [
        "<a href=\"https://colab.research.google.com/github/MaulanaJauhar/AI/blob/main/UAS_Statistika_Komputasi.ipynb\" target=\"_parent\"><img src=\"https://colab.research.google.com/assets/colab-badge.svg\" alt=\"Open In Colab\"/></a>"
      ]
    },
    {
      "cell_type": "markdown",
      "source": [
        "No 1 b"
      ],
      "metadata": {
        "id": "BwQJluQWBwxj"
      }
    },
    {
      "cell_type": "code",
      "execution_count": 17,
      "metadata": {
        "colab": {
          "base_uri": "https://localhost:8080/"
        },
        "id": "1a3DmhuzBaAe",
        "outputId": "502338b1-bf6e-465d-b3e5-1a00dc532cd9"
      },
      "outputs": [
        {
          "output_type": "stream",
          "name": "stdout",
          "text": [
            "       Weekly_Sales  Holiday_Flag  Temperature  Fuel_Price         CPI  \\\n",
            "count  1.430000e+02    143.000000   143.000000  143.000000  143.000000   \n",
            "mean   2.094713e+06      0.069930    62.253357    3.216972  128.679669   \n",
            "std    2.662014e+05      0.255926    16.180023    0.416967    1.858300   \n",
            "min    1.762539e+06      0.000000    28.840000    2.540000  126.064000   \n",
            "25%    1.929611e+06      0.000000    48.470000    2.764500  126.590094   \n",
            "50%    2.073951e+06      0.000000    64.220000    3.290000  129.075677   \n",
            "75%    2.175039e+06      0.000000    77.440000    3.586500  130.502414   \n",
            "max    3.676389e+06      1.000000    86.090000    3.881000  131.193097   \n",
            "\n",
            "       Unemployment  \n",
            "count    143.000000  \n",
            "mean       5.964692  \n",
            "std        1.421267  \n",
            "min        3.879000  \n",
            "25%        4.607000  \n",
            "50%        5.946000  \n",
            "75%        7.127000  \n",
            "max        8.623000  \n"
          ]
        }
      ],
      "source": [
        "# No 1 b Jauhar Maulana A'la\n",
        "\n",
        "import pandas as pd\n",
        "\n",
        "# Membaca dataset dari file CSV\n",
        "data = pd.read_csv(\"Walmart.csv\")\n",
        "\n",
        "# Filter data hanya untuk toko dengan nomor 4\n",
        "store_1_data = data[data[\"Store\"] == 4]\n",
        "\n",
        "# Menghitung statistik deskriptif untuk toko 4\n",
        "statistics = store_1_data[[\"Weekly_Sales\", \"Holiday_Flag\", \"Temperature\", \"Fuel_Price\", \"CPI\", \"Unemployment\"]].describe()\n",
        "\n",
        "# Menampilkan statistik deskriptif\n",
        "print(statistics)\n",
        ""
      ]
    },
    {
      "cell_type": "markdown",
      "source": [
        "No 1 c"
      ],
      "metadata": {
        "id": "Pi0baov7IjMn"
      }
    },
    {
      "cell_type": "code",
      "source": [
        "# No 1 c Jauhar Maulana A'la\n",
        "\n",
        "import pandas as pd\n",
        "\n",
        "# Membaca dataset dari file CSV\n",
        "data = pd.read_csv(\"Walmart.csv\")\n",
        "\n",
        "# Filter data hanya untuk toko dengan nomor 4\n",
        "store_1_data = data[data[\"Store\"] == 4]\n",
        "\n",
        "# Menghitung nilai kuartil dan IQR untuk toko 4\n",
        "fuel_price_stats = store_1_data['Fuel_Price'].describe()\n",
        "cpi_stats = store_1_data['CPI'].describe()\n",
        "unemployment_stats = store_1_data['Unemployment'].describe()\n",
        "\n",
        "# Mendapatkan nilai Q1, Q2, dan Q3\n",
        "fuel_price_q1 = fuel_price_stats['25%']\n",
        "fuel_price_q2 = fuel_price_stats['50%']\n",
        "fuel_price_q3 = fuel_price_stats['75%']\n",
        "\n",
        "cpi_q1 = cpi_stats['25%']\n",
        "cpi_q2 = cpi_stats['50%']\n",
        "cpi_q3 = cpi_stats['75%']\n",
        "\n",
        "unemployment_q1 = unemployment_stats['25%']\n",
        "unemployment_q2 = unemployment_stats['50%']\n",
        "unemployment_q3 = unemployment_stats['75%']\n",
        "\n",
        "# Menghitung IQR (interquartile range)\n",
        "fuel_price_iqr = fuel_price_q3 - fuel_price_q1\n",
        "cpi_iqr = cpi_q3 - cpi_q1\n",
        "unemployment_iqr = unemployment_q3 - unemployment_q1\n",
        "\n",
        "# Menampilkan nilai Q1, Q2, Q3, dan IQR\n",
        "print(\"Fuel_Price:\")\n",
        "print(\"Q1:\", fuel_price_q1)\n",
        "print(\"Q2 (Median):\", fuel_price_q2)\n",
        "print(\"Q3:\", fuel_price_q3)\n",
        "print(\"IQR:\", fuel_price_iqr)\n",
        "\n",
        "print(\"\\nCPI:\")\n",
        "print(\"Q1:\", cpi_q1)\n",
        "print(\"Q2 (Median):\", cpi_q2)\n",
        "print(\"Q3:\", cpi_q3)\n",
        "print(\"IQR:\", cpi_iqr)\n",
        "\n",
        "print(\"\\nUnemployment:\")\n",
        "print(\"Q1:\", unemployment_q1)\n",
        "print(\"Q2 (Median):\", unemployment_q2)\n",
        "print(\"Q3:\", unemployment_q3)\n",
        "print(\"IQR:\", unemployment_iqr)"
      ],
      "metadata": {
        "colab": {
          "base_uri": "https://localhost:8080/"
        },
        "id": "6awzqMmoNm0C",
        "outputId": "499ebc08-d8a5-4df3-ddcf-34b24dd9a743"
      },
      "execution_count": 19,
      "outputs": [
        {
          "output_type": "stream",
          "name": "stdout",
          "text": [
            "Fuel_Price:\n",
            "Q1: 2.7645\n",
            "Q2 (Median): 3.29\n",
            "Q3: 3.5865\n",
            "IQR: 0.8220000000000001\n",
            "\n",
            "CPI:\n",
            "Q1: 126.59009445\n",
            "Q2 (Median): 129.0756774\n",
            "Q3: 130.5024138\n",
            "IQR: 3.912319350000004\n",
            "\n",
            "Unemployment:\n",
            "Q1: 4.607\n",
            "Q2 (Median): 5.946\n",
            "Q3: 7.127\n",
            "IQR: 2.5199999999999996\n"
          ]
        }
      ]
    },
    {
      "cell_type": "markdown",
      "source": [
        "No 1 d"
      ],
      "metadata": {
        "id": "PNe6osP_OiAf"
      }
    },
    {
      "cell_type": "code",
      "source": [
        "# No 1 d Jauhar Maulana A'la\n",
        "\n",
        "import pandas as pd\n",
        "\n",
        "# Membaca dataset dari file CSV\n",
        "data = pd.read_csv(\"Walmart.csv\")\n",
        "\n",
        "# Filter data hanya untuk minggu dengan status 1 (minggu liburan)\n",
        "holiday_week_data = data[data[\"Holiday_Flag\"] == 1]\n",
        "\n",
        "# Menghitung variansi dari kolom Weekly_Sales untuk minggu liburan\n",
        "holiday_week_variance = holiday_week_data[\"Weekly_Sales\"].var()\n",
        "\n",
        "# Menampilkan variansi\n",
        "print(\"Variansi minggu liburan:\", holiday_week_variance)\n",
        "\n",
        "# Filter data hanya untuk minggu dengan status 0 (minggu bukan liburan)\n",
        "non_holiday_week_data = data[data[\"Holiday_Flag\"] == 0]\n",
        "\n",
        "# Menghitung variansi dari kolom Weekly_Sales untuk minggu bukan liburan\n",
        "non_holiday_week_variance = non_holiday_week_data[\"Weekly_Sales\"].var()\n",
        "\n",
        "# Menampilkan variansi\n",
        "print(\"Variansi minggu bukan liburan:\", non_holiday_week_variance)\n",
        ""
      ],
      "metadata": {
        "colab": {
          "base_uri": "https://localhost:8080/"
        },
        "id": "JuhTrT6rOjfT",
        "outputId": "b25695fa-101f-437b-a945-4ff194e75cdf"
      },
      "execution_count": 20,
      "outputs": [
        {
          "output_type": "stream",
          "name": "stdout",
          "text": [
            "Variansi minggu liburan: 393988373714.19293\n",
            "Variansi minggu bukan liburan: 312433415424.3812\n"
          ]
        }
      ]
    },
    {
      "cell_type": "markdown",
      "source": [
        "No 1 e"
      ],
      "metadata": {
        "id": "RDdkr1PwO6T-"
      }
    },
    {
      "cell_type": "code",
      "source": [
        "# No 1 e Juahar Maulana A'la\n",
        "\n",
        "import pandas as pd\n",
        "\n",
        "# Membaca dataset dari file CSV\n",
        "data = pd.read_csv(\"Walmart.csv\")\n",
        "\n",
        "# Menghitung rata-rata penjualan mingguan untuk setiap toko\n",
        "average_sales_by_store = data.groupby(\"Store\")[\"Weekly_Sales\"].mean()\n",
        "\n",
        "# Menampilkan rata-rata penjualan mingguan untuk setiap toko\n",
        "print(average_sales_by_store)\n",
        "\n",
        "# Memeriksa apakah rata-rata penjualan mingguan sama di setiap toko\n",
        "is_average_same = all(average_sales_by_store == average_sales_by_store.iloc[0])\n",
        "\n",
        "# Menampilkan hasil\n",
        "if is_average_same:\n",
        "    print(\"Rata-rata penjualan mingguan sama di setiap toko.\")\n",
        "else:\n",
        "    print(\"Rata-rata penjualan mingguan berbeda di setiap toko.\")"
      ],
      "metadata": {
        "colab": {
          "base_uri": "https://localhost:8080/"
        },
        "id": "QyKBPUEyO7kU",
        "outputId": "117746f7-44d7-4741-c98a-c80e82c7fe85"
      },
      "execution_count": 21,
      "outputs": [
        {
          "output_type": "stream",
          "name": "stdout",
          "text": [
            "Store\n",
            "1     1.555264e+06\n",
            "2     1.925751e+06\n",
            "3     4.027044e+05\n",
            "4     2.094713e+06\n",
            "5     3.180118e+05\n",
            "6     1.564728e+06\n",
            "7     5.706173e+05\n",
            "8     9.087495e+05\n",
            "9     5.439806e+05\n",
            "10    1.899425e+06\n",
            "11    1.356383e+06\n",
            "12    1.009002e+06\n",
            "13    2.003620e+06\n",
            "14    2.020978e+06\n",
            "15    6.233125e+05\n",
            "16    5.192477e+05\n",
            "17    8.935814e+05\n",
            "18    1.084718e+06\n",
            "19    1.444999e+06\n",
            "20    2.107677e+06\n",
            "21    7.560691e+05\n",
            "22    1.028501e+06\n",
            "23    1.389864e+06\n",
            "24    1.356755e+06\n",
            "25    7.067215e+05\n",
            "26    1.002912e+06\n",
            "27    1.775216e+06\n",
            "28    1.323522e+06\n",
            "29    5.394514e+05\n",
            "30    4.385796e+05\n",
            "31    1.395901e+06\n",
            "32    1.166568e+06\n",
            "33    2.598617e+05\n",
            "34    9.667816e+05\n",
            "35    9.197250e+05\n",
            "36    3.735120e+05\n",
            "37    5.189003e+05\n",
            "38    3.857317e+05\n",
            "39    1.450668e+06\n",
            "40    9.641280e+05\n",
            "41    1.268125e+06\n",
            "42    5.564039e+05\n",
            "43    6.333247e+05\n",
            "44    3.027489e+05\n",
            "45    7.859814e+05\n",
            "Name: Weekly_Sales, dtype: float64\n",
            "Rata-rata penjualan mingguan berbeda di setiap toko.\n"
          ]
        }
      ]
    },
    {
      "cell_type": "markdown",
      "source": [
        "No 1 f"
      ],
      "metadata": {
        "id": "m2JRCMyvPTy3"
      }
    },
    {
      "cell_type": "code",
      "source": [
        "# No 1 f Jauhar Maulana A'la\n",
        "\n",
        "import pandas as pd\n",
        "\n",
        "# Membaca dataset dari file CSV\n",
        "data = pd.read_csv(\"Walmart.csv\")\n",
        "\n",
        "# Menghitung nilai maksimum CPI untuk setiap toko\n",
        "max_cpi_by_store = data.groupby(\"Store\")[\"CPI\"].max()\n",
        "\n",
        "# Menampilkan nilai maksimum CPI untuk setiap toko\n",
        "print(max_cpi_by_store)\n",
        "\n",
        "# Menentukan CPI yang lebih tinggi dari setiap toko\n",
        "highest_cpi_store = max_cpi_by_store.idxmax()\n",
        "\n",
        "# Menampilkan hasil\n",
        "print(\"Toko dengan CPI tertinggi:\", highest_cpi_store)"
      ],
      "metadata": {
        "colab": {
          "base_uri": "https://localhost:8080/"
        },
        "id": "8wX-zP9jPU7u",
        "outputId": "02ba065a-c00c-4634-e66c-6da4f93375e7"
      },
      "execution_count": 22,
      "outputs": [
        {
          "output_type": "stream",
          "name": "stdout",
          "text": [
            "Store\n",
            "1     223.444251\n",
            "2     223.078337\n",
            "3     226.987364\n",
            "4     131.193097\n",
            "5     224.037814\n",
            "6     225.068625\n",
            "7     199.219532\n",
            "8     227.036936\n",
            "9     227.232807\n",
            "10    131.193097\n",
            "11    226.987364\n",
            "12    131.193097\n",
            "13    131.193097\n",
            "14    192.330854\n",
            "15    138.911700\n",
            "16    199.219532\n",
            "17    131.193097\n",
            "18    138.911700\n",
            "19    138.911700\n",
            "20    216.151590\n",
            "21    223.078337\n",
            "22    142.937617\n",
            "23    138.911700\n",
            "24    138.911700\n",
            "25    216.151590\n",
            "26    138.911700\n",
            "27    142.937617\n",
            "28    131.193097\n",
            "29    138.911700\n",
            "30    223.078337\n",
            "31    223.078337\n",
            "32    199.219532\n",
            "33    131.193097\n",
            "34    131.193097\n",
            "35    142.937617\n",
            "36    222.113657\n",
            "37    222.113657\n",
            "38    131.193097\n",
            "39    222.113657\n",
            "40    138.911700\n",
            "41    199.219532\n",
            "42    131.193097\n",
            "43    214.741539\n",
            "44    131.193097\n",
            "45    192.330854\n",
            "Name: CPI, dtype: float64\n",
            "Toko dengan CPI tertinggi: 9\n"
          ]
        }
      ]
    },
    {
      "cell_type": "markdown",
      "source": [
        "No 1 g"
      ],
      "metadata": {
        "id": "XshntLSGPm04"
      }
    },
    {
      "cell_type": "code",
      "source": [
        "# No 1 g Jauhar Maulana A'la\n",
        "\n",
        "import pandas as pd\n",
        "\n",
        "# Membaca dataset dari file CSV\n",
        "data = pd.read_csv(\"Walmart.csv\")\n",
        "\n",
        "# Filter data hanya untuk minggu liburan (holiday week)\n",
        "holiday_week_data = data[data[\"Holiday_Flag\"] == 1]\n",
        "\n",
        "# Hitung rata-rata CPI untuk minggu liburan\n",
        "average_cpi_holiday = holiday_week_data[\"CPI\"].mean()\n",
        "\n",
        "# Filter data hanya untuk minggu bukan liburan (non-holiday week)\n",
        "non_holiday_week_data = data[data[\"Holiday_Flag\"] == 0]\n",
        "\n",
        "# Hitung rata-rata CPI untuk minggu bukan liburan\n",
        "average_cpi_non_holiday = non_holiday_week_data[\"CPI\"].mean()\n",
        "\n",
        "# Membandingkan rata-rata CPI\n",
        "if average_cpi_holiday > average_cpi_non_holiday:\n",
        "    print(\"Rata-rata CPI lebih tinggi pada minggu liburan (holiday week).\")\n",
        "elif average_cpi_holiday < average_cpi_non_holiday:\n",
        "    print(\"Rata-rata CPI lebih tinggi pada minggu bukan liburan (non-holiday week).\")\n",
        "else:\n",
        "    print(\"Rata-rata CPI sama pada minggu liburan dan bukan liburan.\")"
      ],
      "metadata": {
        "colab": {
          "base_uri": "https://localhost:8080/"
        },
        "id": "GND2Ghd7Pn4g",
        "outputId": "42ab0f60-7287-48b4-f906-da7a703d6110"
      },
      "execution_count": 23,
      "outputs": [
        {
          "output_type": "stream",
          "name": "stdout",
          "text": [
            "Rata-rata CPI lebih tinggi pada minggu bukan liburan (non-holiday week).\n"
          ]
        }
      ]
    },
    {
      "cell_type": "markdown",
      "source": [
        "No 2"
      ],
      "metadata": {
        "id": "uj5MbQvJSQGQ"
      }
    },
    {
      "cell_type": "code",
      "source": [
        "import pandas as pd\n",
        "from scipy.stats import kstest, norm\n",
        "\n",
        "# Membaca data dari file CSV (misalnya, \"data.csv\")\n",
        "data = pd.read_csv(\"Walmart.csv\")\n",
        "\n",
        "# Mengambil kolom 'Weekly_Sales' dan 'Fuel_Price'\n",
        "weekly_sales = data['Weekly_Sales']\n",
        "fuel_price = data['Fuel_Price']\n",
        "\n",
        "# Melakukan uji normalitas menggunakan uji KS\n",
        "alpha = 0.05\n",
        "\n",
        "# Uji normalitas untuk kolom 'Weekly_Sales'\n",
        "statistic, p_value = kstest(weekly_sales, norm.cdf, args=(weekly_sales.mean(), weekly_sales.std()))\n",
        "print(\"Uji Normalitas untuk 'Weekly_Sales':\")\n",
        "print(\"Statistic:\", statistic)\n",
        "print(\"P-value:\", p_value)\n",
        "if p_value > alpha:\n",
        "    print(\"Kesimpulan: 'Weekly_Sales' berdasar dari distribusi normal\")\n",
        "else:\n",
        "    print(\"Kesimpulan: 'Weekly_Sales' tidak berdasar dari distribusi normal\")\n",
        "\n",
        "# a. Uji normalitas untuk kolom 'Fuel_Price'\n",
        "statistic, p_value = kstest(fuel_price, norm.cdf, args=(fuel_price.mean(), fuel_price.std()))\n",
        "print(\"\\nUji Normalitas untuk 'Fuel_Price':\")\n",
        "print(\"Statistic:\", statistic)\n",
        "print(\"P-value:\", p_value)\n",
        "if p_value > alpha:\n",
        "    print(\"Kesimpulan: 'Fuel_Price' berdasar dari distribusi normal\")\n",
        "else:\n",
        "    print(\"Kesimpulan: 'Fuel_Price' tidak berdasar dari distribusi normal\")\n",
        "\n",
        "# b. Variabel independen dan dependennya\n",
        "print(\"b. Variabel independen adalah 'Temperature', 'Fuel_Price', 'CPI', 'Unemployment', sedangkan variabel dependen adalah 'Weekly Sales'\")"
      ],
      "metadata": {
        "colab": {
          "base_uri": "https://localhost:8080/"
        },
        "id": "0j30E96CSeyH",
        "outputId": "b411dcb7-8fb7-4943-b0a4-c028203e4228"
      },
      "execution_count": 29,
      "outputs": [
        {
          "output_type": "stream",
          "name": "stdout",
          "text": [
            "Uji Normalitas untuk 'Weekly_Sales':\n",
            "Statistic: 0.08234118483605396\n",
            "P-value: 2.1126298348509479e-38\n",
            "Kesimpulan: 'Weekly_Sales' tidak berdasar dari distribusi normal\n",
            "\n",
            "Uji Normalitas untuk 'Fuel_Price':\n",
            "Statistic: 0.09675705708714111\n",
            "P-value: 6.887465511738516e-53\n",
            "Kesimpulan: 'Fuel_Price' tidak berdasar dari distribusi normal\n",
            "b. Variabel independen adalah 'Temperature', 'Fuel_Price', 'CPI', 'Unemployment', sedangkan variabel dependen adalah 'Weekly Sales'\n"
          ]
        }
      ]
    },
    {
      "cell_type": "markdown",
      "source": [
        "No 3"
      ],
      "metadata": {
        "id": "XN-5_abRQ71s"
      }
    },
    {
      "cell_type": "code",
      "source": [
        "# No 3 Jauhar Maulana A'la\n",
        "import pandas as pd\n",
        "from scipy.stats import pearsonr\n",
        "\n",
        "# Membaca data dari file CSV\n",
        "data = pd.read_csv('Walmart.csv')\n",
        "\n",
        "# Menentukan variabel independen dan dependen\n",
        "variabel_independen = ['Temperature', 'Fuel_Price', 'CPI', 'Unemployment']\n",
        "variabel_dependen = 'Weekly_Sales'\n",
        "\n",
        "# a. Uji korelasi antara variabel independen dan dependen\n",
        "nilai_korelasi = {}\n",
        "for variabel in variabel_independen:\n",
        "    korelasi, _ = pearsonr(data[variabel], data[variabel_dependen])\n",
        "    nilai_korelasi[variabel] = korelasi\n",
        "\n",
        "# Menampilkan nilai korelasi\n",
        "print(\"a. Nilai korelasi antara variabel independen dan dependen:\")\n",
        "for variabel, korelasi in nilai_korelasi.items():\n",
        "    print(f\"   - {variabel} - {variabel_dependen}: {korelasi}\")\n",
        "\n",
        "# b. Pasangan variabel independen dan dependen yang memiliki korelasi negatif\n",
        "pasangan_korelasi_negatif = [(variabel, korelasi) for variabel, korelasi in nilai_korelasi.items() if korelasi < 0]\n",
        "\n",
        "# Menampilkan pasangan variabel independen dan dependen dengan korelasi negatif\n",
        "if pasangan_korelasi_negatif:\n",
        "    print(\"b. Pasangan variabel independen dan dependen dengan korelasi negatif:\")\n",
        "    for pasangan in pasangan_korelasi_negatif:\n",
        "        print(f\"   - {pasangan[0]} - {variabel_dependen}\")\n",
        "else:\n",
        "    print(\"b. Tidak ada pasangan variabel independen dan dependen dengan korelasi negatif.\")"
      ],
      "metadata": {
        "colab": {
          "base_uri": "https://localhost:8080/"
        },
        "id": "c9kgecGgI-84",
        "outputId": "088c0da8-db63-4692-f5f1-7f5e0b5065e6"
      },
      "execution_count": 25,
      "outputs": [
        {
          "output_type": "stream",
          "name": "stdout",
          "text": [
            "a. Nilai korelasi antara variabel independen dan dependen:\n",
            "   - Temperature - Weekly_Sales: -0.06381001317946956\n",
            "   - Fuel_Price - Weekly_Sales: 0.009463786314475135\n",
            "   - CPI - Weekly_Sales: -0.07263416204017623\n",
            "   - Unemployment - Weekly_Sales: -0.10617608965795423\n",
            "b. Pasangan variabel independen dan dependen dengan korelasi negatif:\n",
            "   - Temperature - Weekly_Sales\n",
            "   - CPI - Weekly_Sales\n",
            "   - Unemployment - Weekly_Sales\n"
          ]
        }
      ]
    },
    {
      "cell_type": "markdown",
      "source": [
        "No 4"
      ],
      "metadata": {
        "id": "YsPKZd2nSJpb"
      }
    },
    {
      "cell_type": "code",
      "source": [
        "import pandas as pd\n",
        "from sklearn.linear_model import LinearRegression\n",
        "\n",
        "# Membaca data dari file CSV\n",
        "data = pd.read_csv('Walmart.csv')\n",
        "\n",
        "# Menentukan variabel independen dan dependen\n",
        "variabel_independen = ['Fuel_Price']\n",
        "variabel_dependen = 'Weekly_Sales'\n",
        "\n",
        "# Memisahkan variabel independen dan dependen\n",
        "X = data[variabel_independen]\n",
        "y = data[variabel_dependen]\n",
        "\n",
        "# Membuat model regresi\n",
        "model = LinearRegression()\n",
        "model.fit(X, y)\n",
        "\n",
        "# Mendapatkan koefisien regresi\n",
        "a = model.intercept_\n",
        "b = model.coef_[0]\n",
        "\n",
        "# Menyusun model dalam bentuk y=a+bx\n",
        "model_regresi = f\"{variabel_dependen} = {a:.2f} + {b:.2f} * {variabel_independen}\"\n",
        "\n",
        "# Menampilkan model regresi\n",
        "print(\"Model regresi:\")\n",
        "print(model_regresi)"
      ],
      "metadata": {
        "colab": {
          "base_uri": "https://localhost:8080/"
        },
        "id": "lIloVN-KTziM",
        "outputId": "1463e37f-bf06-41ef-a849-56890cd70459"
      },
      "execution_count": 31,
      "outputs": [
        {
          "output_type": "stream",
          "name": "stdout",
          "text": [
            "Model regresi:\n",
            "Weekly_Sales = 1007884.92 + 11635.76 * ['Fuel_Price']\n"
          ]
        }
      ]
    }
  ]
}
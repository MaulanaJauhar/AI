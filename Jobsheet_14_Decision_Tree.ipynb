{
  "nbformat": 4,
  "nbformat_minor": 0,
  "metadata": {
    "colab": {
      "provenance": [],
      "authorship_tag": "ABX9TyN6noqAA2H4fIy/j+akS/GX",
      "include_colab_link": true
    },
    "kernelspec": {
      "name": "python3",
      "display_name": "Python 3"
    },
    "language_info": {
      "name": "python"
    }
  },
  "cells": [
    {
      "cell_type": "markdown",
      "metadata": {
        "id": "view-in-github",
        "colab_type": "text"
      },
      "source": [
        "<a href=\"https://colab.research.google.com/github/MaulanaJauhar/AI/blob/main/Jobsheet_14_Decision_Tree.ipynb\" target=\"_parent\"><img src=\"https://colab.research.google.com/assets/colab-badge.svg\" alt=\"Open In Colab\"/></a>"
      ]
    },
    {
      "cell_type": "markdown",
      "source": [
        "#**Jobsheet Decision Tree**"
      ],
      "metadata": {
        "id": "8w5KQn_Qtg9O"
      }
    },
    {
      "cell_type": "markdown",
      "source": [
        "###Nama : Jauhar Maulana A'la\n",
        "###NIM : 2141720186\n",
        "###Kelas : TI - 2C\n",
        "###Absen : 17"
      ],
      "metadata": {
        "id": "A-jf4EOqqnq5"
      }
    },
    {
      "cell_type": "code",
      "source": [
        "import numpy as np\n",
        "import pandas as pd\n",
        "eps = np.finfo(float).eps\n",
        "from numpy import log2 as log"
      ],
      "metadata": {
        "id": "5o5wUMhmmmmt"
      },
      "execution_count": 47,
      "outputs": []
    },
    {
      "cell_type": "code",
      "source": [
        "outlook = 'overcast,overcast,overcast,overcast,rainy,rainy,rainy,rainy,rainy,sunny,sunny,sunny,sunny,sunny'.split(',')\n",
        "temp = 'hot,cool,mild,hot,mild,cool,cool,mild,mild,hot,hot,mild,cool,mild'.split(',')\n",
        "humidity = 'high,normal,high,normal,high,normal,normal,normal,high,high,high,high,normal,normal'.split(',')\n",
        "windy = 'FALSE,TRUE,TRUE,FALSE,FALSE,FALSE,TRUE,FALSE,TRUE,FALSE,TRUE,FALSE,FALSE,TRUE'.split(',')\n",
        "play = 'yes,yes,yes,yes,yes,yes,no,yes,no,no,no,no,yes,yes'.split(',')"
      ],
      "metadata": {
        "id": "1ZMDnHPDn-5f"
      },
      "execution_count": 48,
      "outputs": []
    },
    {
      "cell_type": "code",
      "source": [
        "dataset = {'outlook':outlook,'temp':temp,'humidity':humidity,'windy':windy,'play':play}\n",
        "df = pd.DataFrame(dataset,columns=['outlook','temp','humidity','windy','play'])"
      ],
      "metadata": {
        "id": "2vNa7xEYoAiD"
      },
      "execution_count": 49,
      "outputs": []
    },
    {
      "cell_type": "code",
      "source": [
        "##1. calculate entropy of the whole dataset\n",
        "\n",
        "entropy_node = 0  #Initialize Entropy\n",
        "values = df.play.unique()  #Unique objects - 'Yes', 'No'\n",
        "for value in values:\n",
        "    fraction = df.play.value_counts()[value]/len(df.play)  \n",
        "    entropy_node += -fraction*np.log2(fraction)\n",
        "entropy_node"
      ],
      "metadata": {
        "colab": {
          "base_uri": "https://localhost:8080/",
          "height": 0
        },
        "id": "-hDgxkS7oEyX",
        "outputId": "84520933-f1a4-4eee-ce64-fc984a95752d"
      },
      "execution_count": 50,
      "outputs": [
        {
          "output_type": "execute_result",
          "data": {
            "text/plain": [
              "0.9402859586706309"
            ]
          },
          "metadata": {},
          "execution_count": 50
        }
      ]
    },
    {
      "cell_type": "code",
      "source": [
        "def ent(df,attribute):\n",
        "  target_variables = df.play.unique()  #This gives all 'Yes' and 'No'\n",
        "  variables = df[attribute].unique()    #This gives different features in that attribute (like 'Sweet')\n",
        "\n",
        "  entropy_attribute = 0\n",
        "  for variable in variables:\n",
        "      entropy_each_feature = 0\n",
        "      for target_variable in target_variables:\n",
        "          num = len(df[attribute][df[attribute]==variable][df.play ==target_variable]) #numerator\n",
        "          den = len(df[attribute][df[attribute]==variable]) #denominator\n",
        "          fraction = num/(den+eps)  #pi\n",
        "          entropy_each_feature += -fraction*log(fraction+eps) #This calculates entropy for one feature like 'Sweet'\n",
        "      fraction2 = den/len(df)\n",
        "      entropy_attribute += -fraction2*entropy_each_feature   #Sums up all the entropy ETaste\n",
        "\n",
        "  return (abs(entropy_attribute))"
      ],
      "metadata": {
        "id": "j8y68IdOmlPz"
      },
      "execution_count": 35,
      "outputs": []
    },
    {
      "cell_type": "code",
      "source": [
        "a_entropy = {k:ent(df,k) for k in df.keys()[:-1]} \n",
        "a_entropy"
      ],
      "metadata": {
        "colab": {
          "base_uri": "https://localhost:8080/",
          "height": 0
        },
        "id": "KFzYFg8eoIqE",
        "outputId": "479e59e1-936d-410d-e5ed-cbce0b690149"
      },
      "execution_count": 36,
      "outputs": [
        {
          "output_type": "execute_result",
          "data": {
            "text/plain": [
              "{'outlook': 0.6935361388961914,\n",
              " 'temp': 0.9110633930116756,\n",
              " 'humidity': 0.7884504573082889,\n",
              " 'windy': 0.892158928262361}"
            ]
          },
          "metadata": {},
          "execution_count": 36
        }
      ]
    },
    {
      "cell_type": "code",
      "source": [
        "def ig(e_dataset,e_attr):\n",
        "  return (e_dataset-e_attr)"
      ],
      "metadata": {
        "id": "BytacxhpoNOV"
      },
      "execution_count": 37,
      "outputs": []
    },
    {
      "cell_type": "code",
      "source": [
        "IG = {k:ig(entropy_node,a_entropy[k]) for k in a_entropy}\n",
        "IG"
      ],
      "metadata": {
        "colab": {
          "base_uri": "https://localhost:8080/",
          "height": 0
        },
        "id": "ZTigXV9ioN2H",
        "outputId": "10788345-3109-42ac-bb77-44aabc8433d5"
      },
      "execution_count": 45,
      "outputs": [
        {
          "output_type": "execute_result",
          "data": {
            "text/plain": [
              "{'outlook': 0.24674981977443955,\n",
              " 'temp': 0.029222565658955313,\n",
              " 'humidity': 0.15183550136234203,\n",
              " 'windy': 0.04812703040826993}"
            ]
          },
          "metadata": {},
          "execution_count": 45
        }
      ]
    },
    {
      "cell_type": "code",
      "execution_count": 40,
      "metadata": {
        "id": "iocKq-aOhKqo"
      },
      "outputs": [],
      "source": [
        "# Complate Code\n",
        "import numpy as np\n",
        "import pandas as pd\n",
        "eps = np.finfo(float).eps\n",
        "from numpy import log2 as log\n",
        "\n",
        "# Data\n",
        "outlook = 'overcast,overcast,overcast,overcast,rainy,rainy,rainy,rainy,rainy,sunny,sunny,sunny,sunny,sunny'.split(',')\n",
        "temp = 'hot,cool,mild,hot,mild,cool,cool,mild,mild,hot,hot,mild,cool,mild'.split(',')\n",
        "humidity = 'high,normal,high,normal,high,normal,normal,normal,high,high,high,high,normal,normal'.split(',')\n",
        "windy = 'FALSE,TRUE,TRUE,FALSE,FALSE,FALSE,TRUE,FALSE,TRUE,FALSE,TRUE,FALSE,FALSE,TRUE'.split(',')\n",
        "play = 'yes,yes,yes,yes,yes,yes,no,yes,no,no,no,no,yes,yes'.split(',')\n",
        "\n",
        "# Membuat Data Frame\n",
        "dataset ={'outlook':outlook,'temp':temp,'humidity':humidity,'windy':windy,'play':play}\n",
        "df = pd.DataFrame(dataset,columns=['outlook','temp','humidity','windy','play'])\n",
        "\n",
        "def find_entropy(df):\n",
        "    Class = df.keys()[-1]   #To make the code generic, changing target variable class name\n",
        "    entropy = 0\n",
        "    values = df[Class].unique()\n",
        "    for value in values:\n",
        "        fraction = df[Class].value_counts()[value]/len(df[Class])\n",
        "        entropy += -fraction*np.log2(fraction)\n",
        "    return entropy\n",
        "\n",
        "def find_entropy_attribute(df,attribute):\n",
        "    Class = df.keys()[-1]   #To make the code generic, changing target variable class name\n",
        "    target_variables = df[Class].unique()  #This gives all 'Yes' and 'No'\n",
        "    variables = df[attribute].unique()    #This gives different features in that attribute (like 'Hot','Cold' in Temperature)\n",
        "    entropy2 = 0\n",
        "    for variable in variables:\n",
        "        entropy = 0\n",
        "        for target_variable in target_variables:\n",
        "            num = len(df[attribute][df[attribute]==variable][df[Class] ==target_variable])\n",
        "            den = len(df[attribute][df[attribute]==variable])\n",
        "            fraction = num/(den+eps)  #pi\n",
        "            entropy += -fraction*log(fraction+eps) #This calculates entropy for one feature like 'Hot'\n",
        "        fraction2 = den/len(df)\n",
        "        entropy2 += -fraction2*entropy   #Sums up all the entropy ETaste\n",
        "    return abs(entropy2)\n",
        "\n",
        "def find_winner(df):\n",
        "    Entropy_att = []\n",
        "    IG = []\n",
        "    for key in df.keys()[:-1]:\n",
        "        #entropy_att.append(find_entropy_attribute(df,key))\n",
        "      IG.append(find_entropy(df)-find_entropy_attribute(df,key))\n",
        "    return df.keys()[:-1][np.argmax(IG)]\n",
        "\n",
        "def get_subtable(df, node,value):\n",
        "    return df[df[node] == value].reset_index(drop=True)\n",
        "\n",
        "def buildTree(df,tree=None):\n",
        "    Class = df.keys()[-1]   #To make the code generic, changing target variable class name\n",
        "    # Get attribute with maximum information gain\n",
        "    node = find_winner(df)\n",
        "    #Get distinct value of that attribute e.g Salary is node and Low,Med and High are values\n",
        "    attValue = np.unique(df[node])\n",
        "    #Create an empty dictionary to create tree\n",
        "    if tree is None:\n",
        "        tree={}\n",
        "        tree[node] = {}\n",
        "\n",
        "    #We make loop to construct a tree by calling this function recursively.\n",
        "    #In this we check if the subset is pure and stops if it is pure.\n",
        "    for value in attValue:\n",
        "        subtable = get_subtable(df,node,value)\n",
        "        clValue,counts = np.unique(subtable['play'],return_counts=True)\n",
        "        if len(counts)==1:#Checking purity of subset\n",
        "            tree[node][value] = clValue[0]\n",
        "        else:\n",
        "            tree[node][value] = buildTree(subtable) #Calling the function recursively\n",
        "    return tree"
      ]
    },
    {
      "cell_type": "code",
      "source": [
        "t = buildTree(df)\n",
        "import pprint\n",
        "pprint.pprint(t)"
      ],
      "metadata": {
        "colab": {
          "base_uri": "https://localhost:8080/",
          "height": 0
        },
        "id": "xxa2kPaGh_BI",
        "outputId": "b852b312-2825-46e4-e22b-73c3bd9e2a8f"
      },
      "execution_count": 41,
      "outputs": [
        {
          "output_type": "stream",
          "name": "stdout",
          "text": [
            "{'outlook': {'overcast': 'yes',\n",
            "             'rainy': {'windy': {'FALSE': 'yes', 'TRUE': 'no'}},\n",
            "             'sunny': {'humidity': {'high': 'no', 'normal': 'yes'}}}}\n"
          ]
        }
      ]
    }
  ]
}
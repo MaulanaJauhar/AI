{
  "nbformat": 4,
  "nbformat_minor": 0,
  "metadata": {
    "colab": {
      "provenance": [],
      "authorship_tag": "ABX9TyP9uQs1h97yoFAM/0tS3uk9",
      "include_colab_link": true
    },
    "kernelspec": {
      "name": "python3",
      "display_name": "Python 3"
    },
    "language_info": {
      "name": "python"
    }
  },
  "cells": [
    {
      "cell_type": "markdown",
      "metadata": {
        "id": "view-in-github",
        "colab_type": "text"
      },
      "source": [
        "<a href=\"https://colab.research.google.com/github/MaulanaJauhar/AI/blob/main/Kuis2_StatistikaKomputasi.ipynb\" target=\"_parent\"><img src=\"https://colab.research.google.com/assets/colab-badge.svg\" alt=\"Open In Colab\"/></a>"
      ]
    },
    {
      "cell_type": "markdown",
      "source": [
        "#KUIS 2 Statistika Komputasi\n",
        "#Nama : **Jauhar Maulana A'la**\n",
        "#NIM : **2141720186**"
      ],
      "metadata": {
        "id": "x-0RKNxsg2mS"
      }
    },
    {
      "cell_type": "markdown",
      "source": [
        "#Soal 1\n",
        "1.   Rata-rata konsentrasi kolesterol darah pada populasi dalam jumlah besar pria dewasa usia 50-60 tahun \n",
        "adalah 200mg/dl dengan simpangan baku 20mg/dl. Dianggap pengukuran kolesterol bersebaran \n",
        "normal. Berapakah peluang bahwa 100 pria dari kelompok umum ini akan memiliki kolesterol di \n",
        "bawah 204 ml/dl?"
      ],
      "metadata": {
        "id": "stYHsuTHhP0s"
      }
    },
    {
      "cell_type": "code",
      "source": [
        "from scipy.stats import norm\n",
        "\n",
        "mean = 200  # rata-rata\n",
        "std_dev = 20  # simpangan baku\n",
        "x = 204  # nilai batas kolesterol\n",
        "n = 100  # jumlah pria\n",
        "\n",
        "# Menghitung z-score (standar skor)\n",
        "z = (x - mean) / (std_dev / (n**0.5))\n",
        "\n",
        "# Menghitung peluang menggunakan distribusi normal kumulatif\n",
        "probability = norm.cdf(z)\n",
        "\n",
        "# Menampilkan hasil\n",
        "print(\"Peluang 100 pria akan memiliki kolesterol di bawah 204 mg/dL adalah \",\n",
        "      probability,\" atau \",round(probability * 100,2),\"%\")\n"
      ],
      "metadata": {
        "colab": {
          "base_uri": "https://localhost:8080/"
        },
        "id": "xjeKutoCkLSI",
        "outputId": "cfdc63b8-0d6e-4f92-c60c-1264da03b600"
      },
      "execution_count": null,
      "outputs": [
        {
          "output_type": "stream",
          "name": "stdout",
          "text": [
            "Peluang 100 pria akan memiliki kolesterol di bawah 204 mg/dL adalah  0.9772498680518208  atau  97.72 %\n"
          ]
        }
      ]
    },
    {
      "cell_type": "markdown",
      "source": [
        "#Soal 2\n",
        "2.  Misalkan spesies tanaman tertentu dengan populasi tidak diketahui (sangat banyak) memiliki varians \n",
        "tinggi 16 cm. Diambil sampel sebanyak 25 secara acak kemudian diperoleh rata-rata tingginya adalah \n",
        "15 cm. Hitunglah rentang nilai rata-rata populasi dari tinggi tanaman tersebut dengan tingkat \n",
        "kepercayaan 95%."
      ],
      "metadata": {
        "id": "kPNA76mUhk-D"
      }
    },
    {
      "cell_type": "code",
      "source": [
        "import scipy.stats as stats\n",
        "import math\n",
        "\n",
        "n = 25\n",
        "mean = 15\n",
        "variance = 16\n",
        "confidence_level = 0.95\n",
        "\n",
        "standard_error = math.sqrt(variance) / math.sqrt(n)\n",
        "z_score = abs(stats.norm.ppf((1 - confidence_level) / 2))\n",
        "\n",
        "lower_bound = mean - z_score * standard_error\n",
        "upper_bound = mean + z_score * standard_error\n",
        "\n",
        "print(\"Rentang nilai rata-rata populasi dari tinggi tanaman tersebut dengan tingkat kepercayaan 95% adalah:\")\n",
        "print(lower_bound,\" , \",upper_bound)\n"
      ],
      "metadata": {
        "id": "DpnvBm4nhowP",
        "colab": {
          "base_uri": "https://localhost:8080/"
        },
        "outputId": "f4163dda-8092-490a-8eb3-0c8056c777b8"
      },
      "execution_count": null,
      "outputs": [
        {
          "output_type": "stream",
          "name": "stdout",
          "text": [
            "Rentang nilai rata-rata populasi dari tinggi tanaman tersebut dengan tingkat kepercayaan 95% adalah:\n",
            "13.432028812367957  ,  16.567971187632043\n"
          ]
        }
      ]
    },
    {
      "cell_type": "markdown",
      "source": [
        "#Soal 3\n",
        "3.  Dalam sebuah penelitian, dilakukan eksperimen terhadap dua buah kelompok untuk mengetahui \n",
        "dampak penggunaan tool pembelajaran. Berikut merupakan dari sampel yang mengikuti eksperimen."
      ],
      "metadata": {
        "id": "L1MrzaKhhrhH"
      }
    },
    {
      "cell_type": "markdown",
      "source": [
        "##Dengan Tool = [32, 31, 32, 32, 33, 35, 32, 34, 31, 29, 36, 30, 33]\n",
        "##Tanpa Tool  = [29, 30, 27, 28, 26, 27, 31, 27, 26, 28, 27, 24, 25]"
      ],
      "metadata": {
        "id": "CTGuY9_m4q9Q"
      }
    },
    {
      "cell_type": "markdown",
      "source": [
        "###a.  Tentukan simpangan baku untuk kelompok “dengan tool”!\n",
        "###b.  Tentukan simpangan baku untuk kelompok “tanpa tool”!\n",
        "###c.  Apakah kedua kelompok tersebut homogen? Lengkapi jawaban Anda dengan hasil analisis dengan menggunakan Uji Harley"
      ],
      "metadata": {
        "id": "RG33c_wb5LsJ"
      }
    },
    {
      "cell_type": "markdown",
      "source": [
        "a. Tentukan simpangan baku untuk kelompok “dengan tool”!"
      ],
      "metadata": {
        "id": "tjnFxkFk5jCE"
      }
    },
    {
      "cell_type": "code",
      "source": [
        "import pandas as pd\n",
        "\n",
        "# membaca file excel\n",
        "df = pd.read_excel('no3.xlsx')\n",
        "\n",
        "# menentukan simpangan baku dari kolom tertentu\n",
        "simpangan_baku1 = df['Dengantool'].std()\n",
        "\n",
        "print(\"Hasil : \",simpangan_baku1)\n"
      ],
      "metadata": {
        "id": "joJE0BYdhyIQ",
        "colab": {
          "base_uri": "https://localhost:8080/"
        },
        "outputId": "5d09900a-e954-4db3-fae8-63c2295a314c"
      },
      "execution_count": null,
      "outputs": [
        {
          "output_type": "stream",
          "name": "stdout",
          "text": [
            "Hasil :  1.9315199276138029\n"
          ]
        }
      ]
    },
    {
      "cell_type": "markdown",
      "source": [
        "b. Tentukan simpangan baku untuk kelompok “tanpa tool”!"
      ],
      "metadata": {
        "id": "qcfJ1YGr5oyo"
      }
    },
    {
      "cell_type": "code",
      "source": [
        "import pandas as pd\n",
        "\n",
        "# membaca file excel\n",
        "df = pd.read_excel('no3.xlsx')\n",
        "\n",
        "# menentukan simpangan baku dari kolom tertentu\n",
        "simpangan_baku2 = df['Tanpatool'].std()\n",
        "\n",
        "print(\"Hasil : \",simpangan_baku2)"
      ],
      "metadata": {
        "colab": {
          "base_uri": "https://localhost:8080/"
        },
        "id": "etdhdoZt3paU",
        "outputId": "307adcfb-fbde-4b14-c276-7284aafd1119"
      },
      "execution_count": null,
      "outputs": [
        {
          "output_type": "stream",
          "name": "stdout",
          "text": [
            "Hasil :  1.931519927613803\n"
          ]
        }
      ]
    },
    {
      "cell_type": "markdown",
      "source": [
        "c. Apakah kedua kelompok tersebut homogen? Lengkapi jawaban Anda dengan hasil analisis dengan menggunakan Uji Harley"
      ],
      "metadata": {
        "id": "KRMmmyIJ5rS5"
      }
    },
    {
      "cell_type": "code",
      "source": [
        "import pandas as pd\n",
        "import numpy as np\n",
        "from scipy.stats import f\n",
        "\n",
        "# mendefinisikan fungsi harley_test yang menerima dua parameter dari data\n",
        "def harley_test(Dengantool, Tanpatool):\n",
        "# menghitung variansi\n",
        "    var1 = np.var(Dengantool)\n",
        "    var2 = np.var(Tanpatool)\n",
        "# membandingkan variansi terbesar dengan variansi terkecil dan menghitung nilai F\n",
        "    if var1 > var2:\n",
        "        f_value = var1 / var2\n",
        "    else:\n",
        "        f_value = var2 / var1\n",
        "    df1 = len(Dengantool) - 1\n",
        "    df2 = len(Tanpatool) - 1\n",
        "\n",
        "    p_value = f.sf(f_value, df1, df2)\n",
        "    return p_value\n",
        "# membaca file excel\n",
        "data = pd.read_excel('no3.xlsx')\n",
        "Dengantool = data['Dengantool']\n",
        "Tanpatool = data['Tanpatool']\n",
        "# memanggil fungsi harley_test dengan parameter Dengantool dan Tanpatool\n",
        "p_value = harley_test(Dengantool, Tanpatool)\n",
        "\n",
        "print(p_value)\n",
        "# mengecek apakah kedua kelompok homogen atau tidak\n",
        "if p_value < 0.05:\n",
        "    print(\"Kedua kelompok tidak termasuk homogen\")\n",
        "else:\n",
        "    print(\"Kedua kelompok termasuk homogen\")"
      ],
      "metadata": {
        "id": "yq38oioE40Ja",
        "outputId": "47493d59-ed94-4386-d0e0-ddb31bc756e4",
        "colab": {
          "base_uri": "https://localhost:8080/"
        }
      },
      "execution_count": null,
      "outputs": [
        {
          "output_type": "stream",
          "name": "stdout",
          "text": [
            "0.4999999999999995\n",
            "Kedua kelompok termasuk homogen\n"
          ]
        }
      ]
    },
    {
      "cell_type": "markdown",
      "source": [
        "#Soal 4\n",
        "4. Terdapat sebuah data kondisi cuaca di daerah Szeged, Hongaria tahun 2006 – 2016. Data direkam\n",
        "pada internal setiap satu jam sekali. Sebagai seorang analis data, Anda diminta untuk memastikan \n",
        "bahwa data ini baik karena teman Anda akan melakukan permodelan regresi linier untuk memprediksi \n",
        "cuaca ke depan. Tugas Anda adalah,"
      ],
      "metadata": {
        "id": "X1Eoqaf_5tvN"
      }
    },
    {
      "cell_type": "markdown",
      "source": [
        "####**a**. Gunakan uji KS untuk menentukan apakah atribut “Temprature” terdistribusi secara normal. Anda diminta untuk menggunakan p-value sebesar 0.05. Apakah “Temperature” terdistribusi normal? Berapa nilai KS-nya?\n",
        "####**b**. Buatlah histogram dari “Temprature” untuk memastikan nilai yang Anda dapat dari poin a\n",
        "####**c**. Gunakan uji KS untuk menentukan apakah atribut “Humidity” terdistribusi secara normal. Tingkat kepercayaan yang diinginkan adalah 99%. Apakah “Humidity” terdistribusi normal? Berapa nilai KS-nya?\n",
        "####**d**. Buatlah histogram dari “Humidity” untuk memastikan apakah nilai yang dapat dari poin c"
      ],
      "metadata": {
        "id": "u9eIgenI55UD"
      }
    },
    {
      "cell_type": "markdown",
      "source": [
        "#a"
      ],
      "metadata": {
        "id": "anm5g0eENXLV"
      }
    },
    {
      "cell_type": "code",
      "source": [
        "#import library\n",
        "import pandas as pd\n",
        "import scipy.stats as stats\n",
        "\n",
        "#baca file csv ke dalam dataframe\n",
        "df = pd.read_csv('weatherHistory.csv')\n",
        "\n",
        "#akses nilai-nilai atribut Temperature dan simpan ke dalam array 1-D\n",
        "temperature = df['Temperature'].values\n",
        "\n",
        "#lakukan uji KS seperti sebelumnya\n",
        "statistic, pvalue = stats.kstest(temperature, 'norm')\n",
        "\n",
        "#tampilkan hasil\n",
        "print('Statistic:', statistic)\n",
        "\n",
        "#tentukan apakah atribut \"Temperature\" terdistribusi normal\n",
        "if pvalue < 0.05:\n",
        "    print('Atribut \"Temperature\" tidak terdistribusi normal.')\n",
        "else:\n",
        "    print('Atribut \"Temperature\" terdistribusi normal.')\n"
      ],
      "metadata": {
        "colab": {
          "base_uri": "https://localhost:8080/"
        },
        "id": "v3kvRHD734dG",
        "outputId": "7b053a39-51d3-4740-bf9a-661563e29a05"
      },
      "execution_count": null,
      "outputs": [
        {
          "output_type": "stream",
          "name": "stdout",
          "text": [
            "Statistic: 0.8187651455395293\n",
            "Atribut \"Temperature\" tidak terdistribusi normal.\n"
          ]
        }
      ]
    },
    {
      "cell_type": "markdown",
      "source": [
        "B. histogram"
      ],
      "metadata": {
        "id": "WPJFQSKLR--M"
      }
    },
    {
      "cell_type": "code",
      "source": [
        "import matplotlib.pyplot as plt\n",
        "\n",
        "#buat plot histogram dari array 1-D temperature\n",
        "plt.hist(temperature, bins=10, edgecolor='black')\n",
        "plt.xlabel('Temperature')\n",
        "plt.ylabel('Frequency')\n",
        "plt.title('Histogram of Temperature')\n",
        "plt.show()"
      ],
      "metadata": {
        "colab": {
          "base_uri": "https://localhost:8080/",
          "height": 472
        },
        "id": "hlUW2P61RZI1",
        "outputId": "baca944d-f50c-4223-d98c-173d44ec5196"
      },
      "execution_count": null,
      "outputs": [
        {
          "output_type": "display_data",
          "data": {
            "text/plain": [
              "<Figure size 640x480 with 1 Axes>"
            ],
            "image/png": "[encoded data removed]"
          },
          "metadata": {}
        }
      ]
    },
    {
      "cell_type": "markdown",
      "source": [
        "c. "
      ],
      "metadata": {
        "id": "ze0dVfHBSIkb"
      }
    },
    {
      "cell_type": "code",
      "source": [
        "#import library\n",
        "import pandas as pd\n",
        "import scipy.stats as stats\n",
        "\n",
        "#baca file csv ke dalam dataframe\n",
        "df = pd.read_csv('weatherHistory.csv')\n",
        "\n",
        "#akses nilai-nilai atribut Humidity dan simpan ke dalam array 1-D\n",
        "humidity = df['Humidity'].values\n",
        "\n",
        "#lakukan uji KS\n",
        "statistic, pvalue = stats.kstest(humidity, 'norm')\n",
        "\n",
        "#tampilkan hasil\n",
        "print('Statistic:', statistic)\n",
        "\n",
        "#tentukan apakah atribut \"Humidity\" terdistribusi normal dengan level signifikansi 0.01\n",
        "if pvalue < 0.01:\n",
        "    print('Atribut \"Humidity\" tidak terdistribusi normal.')\n",
        "else:\n",
        "    print('Atribut \"Humidity\" terdistribusi normal.')\n"
      ],
      "metadata": {
        "colab": {
          "base_uri": "https://localhost:8080/"
        },
        "id": "2xE_Hql5Shrc",
        "outputId": "92b127f1-518b-4628-ac2b-3c5e7d5c2814"
      },
      "execution_count": null,
      "outputs": [
        {
          "output_type": "stream",
          "name": "stdout",
          "text": [
            "Statistic: 0.5990171816042561\n",
            "Atribut \"Humidity\" tidak terdistribusi normal.\n"
          ]
        }
      ]
    },
    {
      "cell_type": "code",
      "source": [
        "import matplotlib.pyplot as plt\n",
        "\n",
        "#buat plot histogram dari array 1-D humidity\n",
        "plt.hist(humidity, bins=10, edgecolor='black')\n",
        "plt.xlabel('Humidity')\n",
        "plt.ylabel('Frequency')\n",
        "plt.title('Histogram of Humidity')\n",
        "plt.show()\n"
      ],
      "metadata": {
        "colab": {
          "base_uri": "https://localhost:8080/",
          "height": 472
        },
        "id": "kUBdBD9NSpzQ",
        "outputId": "0da5bdbe-f0a0-4dbc-a5c6-ab915f9669e1"
      },
      "execution_count": null,
      "outputs": [
        {
          "output_type": "display_data",
          "data": {
            "text/plain": [
              "<Figure size 640x480 with 1 Axes>"
            ],
            "image/png": "[encoded data removed]"
          },
          "metadata": {}
        }
      ]
    }
  ]
}